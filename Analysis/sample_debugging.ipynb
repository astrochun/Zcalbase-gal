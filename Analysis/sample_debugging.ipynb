{
 "cells": [
  {
   "cell_type": "code",
   "execution_count": 2,
   "metadata": {},
   "outputs": [
    {
     "name": "stdout",
     "output_type": "stream",
     "text": [
      "INFO: Reading : /Users/cly/Google Drive/Zcalbase_gal/dataset/DEEP2_all_line_fit.fits [line_widths]\n",
      "('# size det3 : ', 2813)\n"
     ]
    },
    {
     "name": "stderr",
     "output_type": "stream",
     "text": [
      "/Users/cly/apps/anaconda/lib/python2.7/site-packages/ipykernel_launcher.py:18: RuntimeWarning: invalid value encountered in log10\n",
      "/Users/cly/apps/anaconda/lib/python2.7/site-packages/ipykernel_launcher.py:19: RuntimeWarning: invalid value encountered in log10\n"
     ]
    }
   ],
   "source": [
    "from line_widths import get_data\n",
    "import numpy as np\n",
    "\n",
    "data0, mass_data, logM = get_data()\n",
    "\n",
    "OIII = 1.33*data0['OIIIR_FLUX_MOD'].data\n",
    "OII  = data0['OII_FLUX_MOD'].data\n",
    "HB   = data0['HB_FLUX_MOD'].data\n",
    "\n",
    "SNR2_ini = data0['OII_SNR'].data\n",
    "SNR3_ini = data0['OIIIR_SNR'].data\n",
    "SNRH_ini = data0['HB_SNR'].data\n",
    "\n",
    "det3 = np.where((SNR2_ini >= 3) & (SNR3_ini >= 3) & (SNRH_ini >= 3) &\n",
    "                (OII > 0) & (OIII > 0) & (HB > 0))[0]\n",
    "print('# size det3 : ', len(det3))\n",
    "\n",
    "lR23 = np.log10((OII + OIII)/HB)\n",
    "lO32 = np.log10(OIII/OII)"
   ]
  },
  {
   "cell_type": "code",
   "execution_count": 5,
   "metadata": {},
   "outputs": [
    {
     "data": {
      "text/plain": [
       "<matplotlib.collections.PathCollection at 0x1159af050>"
      ]
     },
     "execution_count": 5,
     "metadata": {},
     "output_type": "execute_result"
    },
    {
     "data": {
      "image/png": "[encoded data removed]",
      "text/plain": [
       "<matplotlib.figure.Figure at 0x10e432090>"
      ]
     },
     "metadata": {},
     "output_type": "display_data"
    }
   ],
   "source": [
    "%matplotlib inline\n",
    "\n",
    "import matplotlib.pyplot as plt\n",
    "\n",
    "plt.scatter(lR23[det3], lO32[det3])"
   ]
  },
  {
   "cell_type": "code",
   "execution_count": 10,
   "metadata": {},
   "outputs": [
    {
     "name": "stdout",
     "output_type": "stream",
     "text": [
      "[1.49952857 1.33243902 1.34432127 1.78851447 1.44097672 1.26757774\n",
      " 1.36516851 1.36984914 1.59024859 1.28989502 1.2503806  1.37719803\n",
      " 1.27018436 1.62084177 1.27164058 1.32426283 1.29485243 1.2942966\n",
      " 1.90399447 1.63799088 1.32162236 1.34780989 1.49800137 1.41699142]\n"
     ]
    },
    {
     "data": {
      "text/html": [
       "&lt;Column name=&apos;OIIIR_SIGMA&apos; dtype=&apos;float32&apos; length=24&gt;\n",
       "<table>\n",
       "<tr><td>1.6167055</td></tr>\n",
       "<tr><td>1.685147</td></tr>\n",
       "<tr><td>7.532897</td></tr>\n",
       "<tr><td>3.4359581</td></tr>\n",
       "<tr><td>3.054196</td></tr>\n",
       "<tr><td>1.9749264</td></tr>\n",
       "<tr><td>8.352869</td></tr>\n",
       "<tr><td>5.039525</td></tr>\n",
       "<tr><td>2.4973245</td></tr>\n",
       "<tr><td>1.4781502</td></tr>\n",
       "<tr><td>7.5888042</td></tr>\n",
       "<tr><td>5.3193746</td></tr>\n",
       "<tr><td>2.3116672</td></tr>\n",
       "<tr><td>3.8842413</td></tr>\n",
       "<tr><td>7.3240767</td></tr>\n",
       "<tr><td>2.2135794</td></tr>\n",
       "<tr><td>4.3740373</td></tr>\n",
       "<tr><td>4.6884503</td></tr>\n",
       "<tr><td>6.557996</td></tr>\n",
       "<tr><td>6.208082</td></tr>\n",
       "<tr><td>6.8786683</td></tr>\n",
       "<tr><td>4.972161</td></tr>\n",
       "<tr><td>2.7714353</td></tr>\n",
       "<tr><td>1.2192475</td></tr>\n",
       "</table>"
      ],
      "text/plain": [
       "<Column name='OIIIR_SIGMA' dtype='float32' length=24>\n",
       "1.6167055\n",
       " 1.685147\n",
       " 7.532897\n",
       "3.4359581\n",
       " 3.054196\n",
       "1.9749264\n",
       " 8.352869\n",
       " 5.039525\n",
       "2.4973245\n",
       "1.4781502\n",
       "7.5888042\n",
       "5.3193746\n",
       "2.3116672\n",
       "3.8842413\n",
       "7.3240767\n",
       "2.2135794\n",
       "4.3740373\n",
       "4.6884503\n",
       " 6.557996\n",
       " 6.208082\n",
       "6.8786683\n",
       " 4.972161\n",
       "2.7714353\n",
       "1.2192475"
      ]
     },
     "execution_count": 10,
     "metadata": {},
     "output_type": "execute_result"
    }
   ],
   "source": [
    "high_R23 = np.where(lR23[det3] >= 1.25)[0]\n",
    "\n",
    "print lR23[det3][high_R23]\n",
    "data0['OIIIR_SIGMA'][det3][high_R23]"
   ]
  },
  {
   "cell_type": "code",
   "execution_count": null,
   "metadata": {
    "collapsed": true
   },
   "outputs": [],
   "source": []
  }
 ],
 "metadata": {
  "kernelspec": {
   "display_name": "Python 2",
   "language": "python",
   "name": "python2"
  },
  "language_info": {
   "codemirror_mode": {
    "name": "ipython",
    "version": 2
   },
   "file_extension": ".py",
   "mimetype": "text/x-python",
   "name": "python",
   "nbconvert_exporter": "python",
   "pygments_lexer": "ipython2",
   "version": "2.7.15"
  }
 },
 "nbformat": 4,
 "nbformat_minor": 2
}
